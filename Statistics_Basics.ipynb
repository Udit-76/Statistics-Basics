{
  "nbformat": 4,
  "nbformat_minor": 0,
  "metadata": {
    "colab": {
      "provenance": []
    },
    "kernelspec": {
      "name": "python3",
      "display_name": "Python 3"
    },
    "language_info": {
      "name": "python"
    }
  },
  "cells": [
    {
      "cell_type": "markdown",
      "source": [
        "                                Statistics Basics"
      ],
      "metadata": {
        "id": "TxqeRa-Tjytu"
      }
    },
    {
      "cell_type": "markdown",
      "source": [
        "1. What is statistics, and why is it important?\n",
        "- Statistics is the study of collecting, organizing, analyzing, interpreting, and presenting data. It helps in making decisions based on data and evidence, which is crucial in fields like business, medicine, economics, and research."
      ],
      "metadata": {
        "id": "4dKp7_yfjyIz"
      }
    },
    {
      "cell_type": "markdown",
      "source": [
        "2. What are the two main types of statistics?\n",
        "- Descriptive Statistics: Summarizes or describes the main features of a dataset.\n",
        "\n",
        "- Inferential Statistics: Makes predictions or inferences about a population based on a sample.\n",
        "\n"
      ],
      "metadata": {
        "id": "VslcLLbrjyCc"
      }
    },
    {
      "cell_type": "markdown",
      "source": [
        "3. What are descriptive statistics?\n",
        "- Descriptive statistics summarize and organize characteristics of a dataset using measures such as mean, median, mode, standard deviation, and graphical tools like histograms or pie charts.\n",
        "\n"
      ],
      "metadata": {
        "id": "b9TWjD3Vjx8Y"
      }
    },
    {
      "cell_type": "markdown",
      "source": [
        "4. What is inferential statistics?\n",
        "- Inferential statistics use data from a sample to make generalizations or predictions about a larger population, often involving probability and hypothesis testing."
      ],
      "metadata": {
        "id": "gDWn-CpIjxzA"
      }
    },
    {
      "cell_type": "markdown",
      "source": [
        "5. What is sampling in statistics?\n",
        "- Sampling is the process of selecting a subset (sample) from a population to estimate characteristics of the whole population."
      ],
      "metadata": {
        "id": "LynKQfIRjxrd"
      }
    },
    {
      "cell_type": "markdown",
      "source": [
        "6. What are the different types of sampling methods?\n",
        "- The different type of sampling are :\n",
        " - Random Sampling\n",
        "\n",
        " - Systematic Sampling\n",
        "\n",
        " - Stratified Sampling\n",
        "\n",
        " - Cluster Sampling\n",
        "\n",
        " - Convenience Sampling\n",
        "\n",
        " -  Quota Sampling\n",
        "\n"
      ],
      "metadata": {
        "id": "QboZzeOIjxlz"
      }
    },
    {
      "cell_type": "markdown",
      "source": [
        "7. What is the difference between random and non-random sampling?\n",
        "- Random Sampling: Every member has an equal chance of selection (reduces bias).\n",
        "\n",
        "- Non-Random Sampling: Selection based on convenience or judgment, which can introduce bias."
      ],
      "metadata": {
        "id": "yti0jarqjxfY"
      }
    },
    {
      "cell_type": "markdown",
      "source": [
        "8. Define and give examples of qualitative and quantitative data.\n",
        "- Qualitative Data: Descriptive, non-numerical (e.g., colors, gender, nationality).\n",
        "\n",
        "- Quantitative Data: Numerical values (e.g., height, weight, age).\n",
        "\n"
      ],
      "metadata": {
        "id": "mj28Jfc8jxZw"
      }
    },
    {
      "cell_type": "markdown",
      "source": [
        "9. What are the different types of data in statistics?\n",
        "- The different type of data in statistics are :\n",
        " - Nominal\n",
        "\n",
        " - Ordinal\n",
        "\n",
        " - Interval\n",
        "\n",
        " - Ratio\n",
        "\n"
      ],
      "metadata": {
        "id": "SY8ngq5IjxUk"
      }
    },
    {
      "cell_type": "markdown",
      "source": [
        "10. Explain nominal, ordinal, interval, and ratio levels of measurement.\n",
        "- Nominal: Categories without order (e.g., blood types).\n",
        "\n",
        "- Ordinal: Categories with order (e.g., education levels).\n",
        "\n",
        "- Interval: Numerical, no true zero (e.g., temperature in °C).\n",
        "\n",
        "- Ratio: Numerical, true zero exists (e.g., height, weight).\n",
        "\n"
      ],
      "metadata": {
        "id": "S2COHe5HjxON"
      }
    },
    {
      "cell_type": "markdown",
      "source": [
        "11. What is the measure of central tendency?\n",
        "- Measure of central tendency refers to values that represent the center or average of a dataset — commonly the mean, median, and mode."
      ],
      "metadata": {
        "id": "SQjMoPKojxIG"
      }
    },
    {
      "cell_type": "markdown",
      "source": [
        "12. Define mean, median, and mode.\n",
        "- Mean: Arithmetic average.\n",
        "  - Calculated by adding all the numbers in a dataset and dividing by the total number of values.\n",
        "\n",
        "- Median: Middle value.\n",
        " - Found by arranging the data in ascending order and identifying the middle value.\n",
        "\n",
        "- Mode: Most frequently occurring value.\n",
        "\n"
      ],
      "metadata": {
        "id": "J-sNa_pTjxBt"
      }
    },
    {
      "cell_type": "markdown",
      "source": [
        "13. What is the significance of the measure of central tendency?\n",
        "- It provides a single value that summarizes a dataset and helps in comparing different datasets or understanding trends."
      ],
      "metadata": {
        "id": "vHDsuZxWjw8M"
      }
    },
    {
      "cell_type": "markdown",
      "source": [
        "14. What is variance, and how is it calculated?\n",
        "- Variance measures how far data points are spread out from the mean.\n",
        "Formula (population):\n",
        "\n",
        "   Variance = ∑(x−μ)^2/N\n",
        "\n",
        "   Where x = data point , μ = mean , N = total number."
      ],
      "metadata": {
        "id": "Zg8PisAxjw2C"
      }
    },
    {
      "cell_type": "markdown",
      "source": [
        "15. What is standard deviation, and why is it important?\n",
        "- It’s the square root of variance. It indicates how much values in a dataset deviate from the mean. It helps to understand the spread of the data.\n",
        "\n"
      ],
      "metadata": {
        "id": "-3vuJH8wjwwI"
      }
    },
    {
      "cell_type": "markdown",
      "source": [
        "16. Define and explain the term range in statistics.\n",
        "- Range is the difference between the maximum and minimum values in a dataset.\n",
        " - Range=Max−Min"
      ],
      "metadata": {
        "id": "E6IBB7IMjwpe"
      }
    },
    {
      "cell_type": "markdown",
      "source": [
        "17. What is the difference between variance and standard deviation?\n",
        "- Difference between variance and standard deviation are :\n",
        " - Variance: Average of squared deviations from the mean.\n",
        "\n",
        " - Standard Deviation: Square root of variance, in the same units as the data.\n",
        "\n"
      ],
      "metadata": {
        "id": "5dcgk6tvjwjO"
      }
    },
    {
      "cell_type": "markdown",
      "source": [
        "18. What is skewness in a dataset?\n",
        "- Skewness measures the asymmetry of the data distribution. A symmetric distribution has zero skewness.\n",
        "\n"
      ],
      "metadata": {
        "id": "WxjfAY0WjwdH"
      }
    },
    {
      "cell_type": "markdown",
      "source": [
        "19. What does it mean if a dataset is positively or negatively skewed?\n",
        "- Positively Skewed: Tail on the right side (mean > median).\n",
        "\n",
        "- Negatively Skewed: Tail on the left side (mean < median).\n",
        "\n"
      ],
      "metadata": {
        "id": "4NFTm2TkjwWp"
      }
    },
    {
      "cell_type": "markdown",
      "source": [
        "20. Define and explain kurtosis.\n",
        "- Kurtosis measures the \"tailedness\" of a distribution:\n",
        "\n",
        "  - High kurtosis: Heavy tails, more outliers.\n",
        "\n",
        "  - Low kurtosis: Light tails, fewer outliers.\n",
        "\n"
      ],
      "metadata": {
        "id": "DKy6VqtmjwPs"
      }
    },
    {
      "cell_type": "markdown",
      "source": [
        "21. What is the purpose of covariance?\n",
        "- Covariance indicates the direction of the linear relationship between two variables — whether they increase or decrease together.\n",
        "\n"
      ],
      "metadata": {
        "id": "fdZGZr1yjwHl"
      }
    },
    {
      "cell_type": "markdown",
      "source": [
        "22. What does correlation measure in statistics?\n",
        "- Correlation measures both the strength and direction of the linear relationship between two variables (ranges from -1 to +1).\n",
        "\n"
      ],
      "metadata": {
        "id": "xFUIPTtrjv-R"
      }
    },
    {
      "cell_type": "markdown",
      "source": [
        "23. What is the difference between covariance and correlation?\n",
        "- Covariance: Only shows direction of relationship, affected by units.\n",
        "\n",
        "- Correlation: Standardized form of covariance (unit-free), shows both direction and strength.\n",
        "\n"
      ],
      "metadata": {
        "id": "eGunliJcjv4I"
      }
    },
    {
      "cell_type": "markdown",
      "source": [
        "24. What are some real-world applications of statistics?\n",
        "- Real-world applications of statistics are :\n",
        "  - Business: Market analysis, forecasting\n",
        "\n",
        "  - Healthcare: Clinical trials, drug effectiveness\n",
        "\n",
        "  - Government: Census, policy-making\n",
        "\n",
        "  - Education: Student performance analysis\n",
        "\n",
        "  - Sports: Performance analytics\n",
        "\n",
        "  - Manufacturing: Quality control\n",
        "\n"
      ],
      "metadata": {
        "id": "0Wh8lUPLjvs4"
      }
    },
    {
      "cell_type": "markdown",
      "source": [
        "# Practical"
      ],
      "metadata": {
        "id": "-Z0EhkV3rcjZ"
      }
    },
    {
      "cell_type": "code",
      "source": [
        "# 1. How do you calculate the mean, median, and mode of a dataset?\n",
        "import statistics as stats\n",
        "\n",
        "data = [4, 8, 6, 5, 3, 8, 9]\n",
        "\n",
        "mean = stats.mean(data)\n",
        "median = stats.median(data)\n",
        "mode = stats.mode(data)\n",
        "\n",
        "print(\"Mean:\", mean)\n",
        "print(\"Median:\", median)\n",
        "print(\"Mode:\", mode)\n"
      ],
      "metadata": {
        "colab": {
          "base_uri": "https://localhost:8080/"
        },
        "id": "_ijbUVcFjvFG",
        "outputId": "34d65c41-578c-494c-bc8c-d81a5da16b53"
      },
      "execution_count": 1,
      "outputs": [
        {
          "output_type": "stream",
          "name": "stdout",
          "text": [
            "Mean: 6.142857142857143\n",
            "Median: 6\n",
            "Mode: 8\n"
          ]
        }
      ]
    },
    {
      "cell_type": "code",
      "source": [
        "# 2. Python program to compute variance and standard deviation\n",
        "import statistics as stats\n",
        "\n",
        "data = [10, 12, 23, 23, 16, 23, 21, 16]\n",
        "\n",
        "variance = stats.variance(data)\n",
        "std_dev = stats.stdev(data)\n",
        "\n",
        "print(\"Variance:\", variance)\n",
        "print(\"Standard Deviation:\", std_dev)\n"
      ],
      "metadata": {
        "colab": {
          "base_uri": "https://localhost:8080/"
        },
        "id": "P1aqzFhvju99",
        "outputId": "890584ad-6f46-4e2f-df0f-912bcfece22c"
      },
      "execution_count": 2,
      "outputs": [
        {
          "output_type": "stream",
          "name": "stdout",
          "text": [
            "Variance: 27.428571428571427\n",
            "Standard Deviation: 5.237229365663818\n"
          ]
        }
      ]
    },
    {
      "cell_type": "code",
      "source": [
        "# 3. Create a dataset and classify it  into nominal, ordinal, interval, and ratio types.\n",
        "dataset = {\n",
        "    \"Nominal\": [\"Red\", \"Blue\", \"Green\"],                     # Categories with no order\n",
        "    \"Ordinal\": [\"Low\", \"Medium\", \"High\"],                    # Categories with order\n",
        "    \"Interval\": [20, 25, 30],                                # Temperature in °C (no true zero)\n",
        "    \"Ratio\": [100, 200, 300]                                 # Height in cm (true zero exists)\n",
        "}\n",
        "print(dataset)\n"
      ],
      "metadata": {
        "colab": {
          "base_uri": "https://localhost:8080/"
        },
        "id": "v55rDAwaju38",
        "outputId": "fecad9b3-fb3c-4e04-d4dd-62d21f435253"
      },
      "execution_count": 3,
      "outputs": [
        {
          "output_type": "stream",
          "name": "stdout",
          "text": [
            "{'Nominal': ['Red', 'Blue', 'Green'], 'Ordinal': ['Low', 'Medium', 'High'], 'Interval': [20, 25, 30], 'Ratio': [100, 200, 300]}\n"
          ]
        }
      ]
    },
    {
      "cell_type": "code",
      "source": [
        "# 4. Implement sampling techniques like random and stratified sampling.\n",
        "import random\n",
        "import pandas as pd\n",
        "from sklearn.model_selection import train_test_split\n",
        "\n",
        "# Sample dataset\n",
        "data = pd.DataFrame({\n",
        "    'Gender': ['M', 'F', 'M', 'F', 'M', 'F', 'M', 'F'],\n",
        "    'Score': [88, 92, 85, 90, 95, 91, 89, 87]\n",
        "})\n",
        "\n",
        "# Random Sampling\n",
        "random_sample = data.sample(n=4)\n",
        "print(\"Random Sample:\\n\", random_sample)\n",
        "\n",
        "# Stratified Sampling\n",
        "stratified_sample, _ = train_test_split(data, test_size=0.5, stratify=data['Gender'])\n",
        "print(\"Stratified Sample:\\n\", stratified_sample)\n"
      ],
      "metadata": {
        "colab": {
          "base_uri": "https://localhost:8080/"
        },
        "id": "DjFZzmcljuwU",
        "outputId": "ea5be654-1e0e-45e0-d806-56cd8c0198eb"
      },
      "execution_count": 4,
      "outputs": [
        {
          "output_type": "stream",
          "name": "stdout",
          "text": [
            "Random Sample:\n",
            "   Gender  Score\n",
            "5      F     91\n",
            "2      M     85\n",
            "0      M     88\n",
            "6      M     89\n",
            "Stratified Sample:\n",
            "   Gender  Score\n",
            "3      F     90\n",
            "0      M     88\n",
            "2      M     85\n",
            "1      F     92\n"
          ]
        }
      ]
    },
    {
      "cell_type": "code",
      "source": [
        "# 5. Write a Python function to calculate the range of a dataset.\n",
        "def calculate_range(data):\n",
        "    return max(data) - min(data)\n",
        "\n",
        "data = [10, 25, 15, 30, 20]\n",
        "print(\"Range:\", calculate_range(data))\n",
        "\n"
      ],
      "metadata": {
        "colab": {
          "base_uri": "https://localhost:8080/"
        },
        "id": "k1jNevSHjuqh",
        "outputId": "ad0c843d-7021-407d-ea0f-97e35e686b0a"
      },
      "execution_count": 5,
      "outputs": [
        {
          "output_type": "stream",
          "name": "stdout",
          "text": [
            "Range: 20\n"
          ]
        }
      ]
    },
    {
      "cell_type": "code",
      "source": [
        "# 6. Create a dataset and plot its histogram to visualize skewness.\n",
        "import matplotlib.pyplot as plt\n",
        "\n",
        "data = [5, 7, 8, 5, 6, 9, 10, 12, 14, 15, 16, 19, 20]\n",
        "\n",
        "plt.hist(data, bins=5, edgecolor='black')\n",
        "plt.title(\"Histogram to Visualize Skewness\")\n",
        "plt.xlabel(\"Values\")\n",
        "plt.ylabel(\"Frequency\")\n",
        "plt.show()\n",
        "\n"
      ],
      "metadata": {
        "colab": {
          "base_uri": "https://localhost:8080/",
          "height": 472
        },
        "id": "5TG1ZAiEjuka",
        "outputId": "de3fd9f9-79b1-4950-cadd-99f5ca957cd2"
      },
      "execution_count": 6,
      "outputs": [
        {
          "output_type": "display_data",
          "data": {
            "text/plain": [
              "<Figure size 640x480 with 1 Axes>"
            ],
            "image/png": "[encoded data removed]"
          },
          "metadata": {}
        }
      ]
    },
    {
      "cell_type": "code",
      "source": [
        "# 7. Calculate skewness and kurtosis of a dataset using Python libraries\n",
        "from scipy.stats import skew, kurtosis\n",
        "\n",
        "data = [1, 2, 2, 3, 4, 4, 5, 6, 8, 9]\n",
        "\n",
        "print(\"Skewness:\", skew(data))\n",
        "print(\"Kurtosis:\", kurtosis(data))\n",
        "\n"
      ],
      "metadata": {
        "colab": {
          "base_uri": "https://localhost:8080/"
        },
        "id": "Q2_veU_gjueT",
        "outputId": "2df4ab84-4b77-4c9c-9cfa-1239bc27f2cd"
      },
      "execution_count": 7,
      "outputs": [
        {
          "output_type": "stream",
          "name": "stdout",
          "text": [
            "Skewness: 0.5034798682140715\n",
            "Kurtosis: -0.8779585798816574\n"
          ]
        }
      ]
    },
    {
      "cell_type": "code",
      "source": [
        "# 8. Generate a dataset and demonstrate positive and negative skewness\n",
        "import numpy as np\n",
        "import matplotlib.pyplot as plt\n",
        "\n",
        "# Positively skewed\n",
        "positive_skew = np.random.exponential(scale=2, size=1000)\n",
        "plt.hist(positive_skew, bins=30)\n",
        "plt.title(\"Positive Skew\")\n",
        "plt.show()\n",
        "\n",
        "# Negatively skewed\n",
        "negative_skew = -np.random.exponential(scale=2, size=1000)\n",
        "plt.hist(negative_skew, bins=30)\n",
        "plt.title(\"Negative Skew\")\n",
        "plt.show()\n",
        "\n"
      ],
      "metadata": {
        "colab": {
          "base_uri": "https://localhost:8080/",
          "height": 887
        },
        "id": "7apYK06jjuXX",
        "outputId": "203b3f98-6a97-42c5-c983-2731e9ecd19c"
      },
      "execution_count": 8,
      "outputs": [
        {
          "output_type": "display_data",
          "data": {
            "text/plain": [
              "<Figure size 640x480 with 1 Axes>"
            ],
            "image/png": "[encoded data removed]"
          },
          "metadata": {}
        },
        {
          "output_type": "display_data",
          "data": {
            "text/plain": [
              "<Figure size 640x480 with 1 Axes>"
            ],
            "image/png": "[encoded data removed]"
          },
          "metadata": {}
        }
      ]
    },
    {
      "cell_type": "code",
      "source": [
        "# 9. Write a Python script to calculate covariance between two datasets.\n",
        "import numpy as np\n",
        "\n",
        "x = [2, 4, 6, 8]\n",
        "y = [1, 3, 2, 5]\n",
        "\n",
        "cov_matrix = np.cov(x, y)\n",
        "print(\"Covariance:\", cov_matrix[0][1])\n",
        "\n"
      ],
      "metadata": {
        "colab": {
          "base_uri": "https://localhost:8080/"
        },
        "id": "V6cqnuK3juRe",
        "outputId": "7e6ce808-b2a8-4399-b2ed-0e92cfdd04aa"
      },
      "execution_count": 9,
      "outputs": [
        {
          "output_type": "stream",
          "name": "stdout",
          "text": [
            "Covariance: 3.6666666666666665\n"
          ]
        }
      ]
    },
    {
      "cell_type": "code",
      "source": [
        "# 10. Write a Python script to calculate the correlation coefficient between two datasets.\n",
        "import numpy as np\n",
        "\n",
        "x = [2, 4, 6, 8]\n",
        "y = [1, 3, 2, 5]\n",
        "\n",
        "correlation = np.corrcoef(x, y)\n",
        "print(\"Correlation Coefficient:\", correlation[0][1])\n",
        "\n"
      ],
      "metadata": {
        "colab": {
          "base_uri": "https://localhost:8080/"
        },
        "id": "4T-FJQNJjuKo",
        "outputId": "e9637dfe-e729-4a0a-d50d-32b6d1e5e6e1"
      },
      "execution_count": 10,
      "outputs": [
        {
          "output_type": "stream",
          "name": "stdout",
          "text": [
            "Correlation Coefficient: 0.8315218406202999\n"
          ]
        }
      ]
    },
    {
      "cell_type": "code",
      "source": [
        "# 11. Create a scatter plot to visualize the relationship between two variables.\n",
        "import matplotlib.pyplot as plt\n",
        "\n",
        "x = [1, 2, 3, 4, 5]\n",
        "y = [2, 4, 5, 4, 5]\n",
        "\n",
        "plt.scatter(x, y)\n",
        "plt.title(\"Scatter Plot\")\n",
        "plt.xlabel(\"X values\")\n",
        "plt.ylabel(\"Y values\")\n",
        "plt.show()\n",
        "\n"
      ],
      "metadata": {
        "colab": {
          "base_uri": "https://localhost:8080/",
          "height": 472
        },
        "id": "AzSUEZs-juED",
        "outputId": "a794dc4b-28e0-4e4a-a595-75a3db1a1dd6"
      },
      "execution_count": 11,
      "outputs": [
        {
          "output_type": "display_data",
          "data": {
            "text/plain": [
              "<Figure size 640x480 with 1 Axes>"
            ],
            "image/png": "[encoded data removed]"
          },
          "metadata": {}
        }
      ]
    },
    {
      "cell_type": "code",
      "source": [
        "# 12. Implement and compare simple random sampling and systematic sampling.\n",
        "import numpy as np\n",
        "import pandas as pd\n",
        "\n",
        "data = pd.DataFrame({'Value': range(1, 101)})\n",
        "\n",
        "# Simple Random Sampling\n",
        "random_sample = data.sample(n=10)\n",
        "print(\"Random Sample:\\n\", random_sample)\n",
        "\n",
        "# Systematic Sampling (every 10th item)\n",
        "systematic_sample = data.iloc[::10]\n",
        "print(\"Systematic Sample:\\n\", systematic_sample)\n",
        "\n"
      ],
      "metadata": {
        "colab": {
          "base_uri": "https://localhost:8080/"
        },
        "id": "fXZB3xB7jt89",
        "outputId": "89537cbd-56e2-4334-b490-7c4cd357856f"
      },
      "execution_count": 12,
      "outputs": [
        {
          "output_type": "stream",
          "name": "stdout",
          "text": [
            "Random Sample:\n",
            "     Value\n",
            "16     17\n",
            "59     60\n",
            "90     91\n",
            "44     45\n",
            "88     89\n",
            "69     70\n",
            "43     44\n",
            "48     49\n",
            "39     40\n",
            "58     59\n",
            "Systematic Sample:\n",
            "     Value\n",
            "0       1\n",
            "10     11\n",
            "20     21\n",
            "30     31\n",
            "40     41\n",
            "50     51\n",
            "60     61\n",
            "70     71\n",
            "80     81\n",
            "90     91\n"
          ]
        }
      ]
    },
    {
      "cell_type": "code",
      "execution_count": 13,
      "metadata": {
        "colab": {
          "base_uri": "https://localhost:8080/"
        },
        "id": "9jSr50dwjjZT",
        "outputId": "2b3775ba-28a1-486c-de14-91c4d8523060"
      },
      "outputs": [
        {
          "output_type": "stream",
          "name": "stdout",
          "text": [
            "Mean (Grouped): 15.0\n"
          ]
        }
      ],
      "source": [
        "# 13. Calculate the mean, median, and mode of grouped data.\n",
        "import pandas as pd\n",
        "import statistics as stats\n",
        "\n",
        "# Grouped data example\n",
        "grouped_data = {\n",
        "    \"Class\": [\"0-10\", \"10-20\", \"20-30\"],\n",
        "    \"Frequency\": [5, 10, 5]\n",
        "}\n",
        "\n",
        "df = pd.DataFrame(grouped_data)\n",
        "df[\"Midpoint\"] = [5, 15, 25]\n",
        "df[\"f*x\"] = df[\"Frequency\"] * df[\"Midpoint\"]\n",
        "\n",
        "mean = df[\"f*x\"].sum() / df[\"Frequency\"].sum()\n",
        "print(\"Mean (Grouped):\", mean)\n",
        "\n",
        "# Median and mode for grouped data require interpolation (can be approximated)\n",
        "\n"
      ]
    },
    {
      "cell_type": "code",
      "source": [
        "# 14. Simulate data using Python and calculate its central tendency and dispersion.\n",
        "import numpy as np\n",
        "import statistics as stats\n",
        "\n",
        "data = np.random.normal(loc=50, scale=10, size=100)  # Simulated data\n",
        "\n",
        "print(\"Mean:\", np.mean(data))\n",
        "print(\"Median:\", np.median(data))\n",
        "print(\"Mode:\", stats.mode(data))\n",
        "print(\"Variance:\", np.var(data))\n",
        "print(\"Standard Deviation:\", np.std(data))\n"
      ],
      "metadata": {
        "colab": {
          "base_uri": "https://localhost:8080/"
        },
        "id": "UepDJT9ctvbI",
        "outputId": "9bf6ab3e-0719-48de-ca0d-15ec42313e79"
      },
      "execution_count": 14,
      "outputs": [
        {
          "output_type": "stream",
          "name": "stdout",
          "text": [
            "Mean: 50.21319051891136\n",
            "Median: 50.31573975761273\n",
            "Mode: 46.068147371892266\n",
            "Variance: 99.75184238160664\n",
            "Standard Deviation: 9.987584411738737\n"
          ]
        }
      ]
    },
    {
      "cell_type": "code",
      "source": [
        "# 15. 15. Use NumPy or pandas to summarize a dataset’s descriptive statistics\n",
        "import pandas as pd\n",
        "import numpy as np\n",
        "\n",
        "data = pd.Series(np.random.normal(50, 10, 100))\n",
        "\n",
        "summary = data.describe()\n",
        "print(\"Descriptive Statistics:\\n\", summary)\n"
      ],
      "metadata": {
        "colab": {
          "base_uri": "https://localhost:8080/"
        },
        "id": "7nk-_6kLtvgd",
        "outputId": "dbc57da1-a9a5-4403-cfcc-ccb0a598b968"
      },
      "execution_count": 15,
      "outputs": [
        {
          "output_type": "stream",
          "name": "stdout",
          "text": [
            "Descriptive Statistics:\n",
            " count    100.000000\n",
            "mean      49.866565\n",
            "std       10.485424\n",
            "min       20.244476\n",
            "25%       43.134649\n",
            "50%       50.192796\n",
            "75%       56.970802\n",
            "max       73.378097\n",
            "dtype: float64\n"
          ]
        }
      ]
    },
    {
      "cell_type": "code",
      "source": [
        "# 16. Plot a boxplot to understand the spread and identify outliers\n",
        "import matplotlib.pyplot as plt\n",
        "\n",
        "data = [10, 12, 14, 15, 17, 18, 19, 25, 100]  # 100 is an outlier\n",
        "\n",
        "plt.boxplot(data)\n",
        "plt.title(\"Boxplot to Detect Outliers\")\n",
        "plt.ylabel(\"Values\")\n",
        "plt.show()\n"
      ],
      "metadata": {
        "colab": {
          "base_uri": "https://localhost:8080/",
          "height": 452
        },
        "id": "uEMroyFntvmN",
        "outputId": "a437f884-82e1-474d-80f0-59347578f9e3"
      },
      "execution_count": 16,
      "outputs": [
        {
          "output_type": "display_data",
          "data": {
            "text/plain": [
              "<Figure size 640x480 with 1 Axes>"
            ],
            "image/png": "[encoded data removed]"
          },
          "metadata": {}
        }
      ]
    },
    {
      "cell_type": "code",
      "source": [
        "# 17. Calculate the interquartile range (IQR) of a dataset\n",
        "import numpy as np\n",
        "\n",
        "data = [10, 12, 14, 15, 17, 18, 19, 25, 100]\n",
        "q1 = np.percentile(data, 25)\n",
        "q3 = np.percentile(data, 75)\n",
        "iqr = q3 - q1\n",
        "\n",
        "print(\"IQR (Interquartile Range):\", iqr)\n"
      ],
      "metadata": {
        "colab": {
          "base_uri": "https://localhost:8080/"
        },
        "id": "XHnJ8cNptvxY",
        "outputId": "dbb994fd-d302-4351-ae8f-99ea053ee330"
      },
      "execution_count": 17,
      "outputs": [
        {
          "output_type": "stream",
          "name": "stdout",
          "text": [
            "IQR (Interquartile Range): 5.0\n"
          ]
        }
      ]
    },
    {
      "cell_type": "code",
      "source": [
        "# 18. Implement Z-score normalization and explain its significance\n",
        "  # Z-score normalization transforms data to have a mean of 0 and a standard deviation of 1, useful for comparing data from different scales.\n",
        "from scipy.stats import zscore\n",
        "\n",
        "data = [10, 20, 30, 40, 50]\n",
        "z_scores = zscore(data)\n",
        "\n",
        "print(\"Z-score Normalization:\\n\", z_scores)\n"
      ],
      "metadata": {
        "colab": {
          "base_uri": "https://localhost:8080/"
        },
        "id": "TWh3w6a4tv2U",
        "outputId": "df39fc33-0c2d-4e1f-9d64-7ce27b053e55"
      },
      "execution_count": 18,
      "outputs": [
        {
          "output_type": "stream",
          "name": "stdout",
          "text": [
            "Z-score Normalization:\n",
            " [-1.41421356 -0.70710678  0.          0.70710678  1.41421356]\n"
          ]
        }
      ]
    },
    {
      "cell_type": "code",
      "source": [
        "#19. Compare two datasets using their standard deviations\n",
        "import numpy as np\n",
        "\n",
        "data1 = np.random.normal(50, 5, 100)\n",
        "data2 = np.random.normal(50, 15, 100)\n",
        "\n",
        "std1 = np.std(data1)\n",
        "std2 = np.std(data2)\n",
        "\n",
        "print(\"Standard Deviation of Data 1:\", std1)\n",
        "print(\"Standard Deviation of Data 2:\", std2)\n",
        "\n",
        "if std1 > std2:\n",
        "    print(\"Data 1 is more spread out.\")\n",
        "else:\n",
        "    print(\"Data 2 is more spread out.\")\n",
        "\n"
      ],
      "metadata": {
        "colab": {
          "base_uri": "https://localhost:8080/"
        },
        "id": "E5GOgQWitv7B",
        "outputId": "8dfcc190-22ca-4862-84f5-3779cb8d1b6f"
      },
      "execution_count": 19,
      "outputs": [
        {
          "output_type": "stream",
          "name": "stdout",
          "text": [
            "Standard Deviation of Data 1: 5.621977896922808\n",
            "Standard Deviation of Data 2: 14.57875458237195\n",
            "Data 2 is more spread out.\n"
          ]
        }
      ]
    },
    {
      "cell_type": "code",
      "source": [
        "# 20. Python program to visualize covariance using a heatmap\n",
        "import pandas as pd\n",
        "import seaborn as sns\n",
        "import matplotlib.pyplot as plt\n",
        "\n",
        "df = pd.DataFrame({\n",
        "    'X': np.random.normal(0, 1, 100),\n",
        "    'Y': np.random.normal(5, 2, 100),\n",
        "    'Z': np.random.normal(-2, 1, 100)\n",
        "})\n",
        "\n",
        "cov_matrix = df.cov()\n",
        "\n",
        "sns.heatmap(cov_matrix, annot=True, cmap='coolwarm')\n",
        "plt.title(\"Covariance Heatmap\")\n",
        "plt.show()\n"
      ],
      "metadata": {
        "colab": {
          "base_uri": "https://localhost:8080/",
          "height": 452
        },
        "id": "On6_hKhytwBk",
        "outputId": "f97f72c7-12ea-4182-b760-6d57ad987b5f"
      },
      "execution_count": 20,
      "outputs": [
        {
          "output_type": "display_data",
          "data": {
            "text/plain": [
              "<Figure size 640x480 with 2 Axes>"
            ],
            "image/png": "[encoded data removed]"
          },
          "metadata": {}
        }
      ]
    },
    {
      "cell_type": "code",
      "source": [
        "# 21. Use seaborn to create a correlation matrix for a dataset\n",
        "import seaborn as sns\n",
        "import pandas as pd\n",
        "import numpy as np\n",
        "import matplotlib.pyplot as plt\n",
        "\n",
        "df = pd.DataFrame({\n",
        "    'A': np.random.rand(100),\n",
        "    'B': np.random.rand(100),\n",
        "    'C': np.random.rand(100)\n",
        "})\n",
        "\n",
        "correlation_matrix = df.corr()\n",
        "\n",
        "sns.heatmap(correlation_matrix, annot=True, cmap='Blues')\n",
        "plt.title(\"Correlation Matrix\")\n",
        "plt.show()\n"
      ],
      "metadata": {
        "colab": {
          "base_uri": "https://localhost:8080/",
          "height": 452
        },
        "id": "CIQj7BmatwL7",
        "outputId": "23772dcf-ceee-476d-b2cb-32112829ce61"
      },
      "execution_count": 21,
      "outputs": [
        {
          "output_type": "display_data",
          "data": {
            "text/plain": [
              "<Figure size 640x480 with 2 Axes>"
            ],
            "image/png": "[encoded data removed]"
          },
          "metadata": {}
        }
      ]
    },
    {
      "cell_type": "code",
      "source": [
        "# 22. Generate dataset and compute variance and standard deviation\n",
        "import numpy as np\n",
        "\n",
        "data = np.random.randint(1, 100, size=20)\n",
        "\n",
        "variance = np.var(data)\n",
        "std_dev = np.std(data)\n",
        "\n",
        "print(\"Data:\", data)\n",
        "print(\"Variance:\", variance)\n",
        "print(\"Standard Deviation:\", std_dev)\n"
      ],
      "metadata": {
        "colab": {
          "base_uri": "https://localhost:8080/"
        },
        "id": "Fpi8XxEFtwR3",
        "outputId": "65450459-ac07-4ffd-d914-862560d2166e"
      },
      "execution_count": 22,
      "outputs": [
        {
          "output_type": "stream",
          "name": "stdout",
          "text": [
            "Data: [95 44 71 57 99 27 26 42 72 52 44 17 64 91 47  9 69  9 16 68]\n",
            "Variance: 740.2475\n",
            "Standard Deviation: 27.207489777632922\n"
          ]
        }
      ]
    },
    {
      "cell_type": "code",
      "source": [
        "# 23. Visualize skewness and kurtosis using matplotlib or seaborn\n",
        "from scipy.stats import skew, kurtosis\n",
        "import seaborn as sns\n",
        "import matplotlib.pyplot as plt\n",
        "import numpy as np\n",
        "\n",
        "data = np.random.normal(0, 1, 1000)\n",
        "\n",
        "# Skewness & Kurtosis\n",
        "print(\"Skewness:\", skew(data))\n",
        "print(\"Kurtosis:\", kurtosis(data))\n",
        "\n",
        "# Visualization\n",
        "sns.histplot(data, kde=True)\n",
        "plt.title(\"Skewness & Kurtosis Visualization\")\n",
        "plt.show()\n"
      ],
      "metadata": {
        "colab": {
          "base_uri": "https://localhost:8080/",
          "height": 487
        },
        "id": "NvUxj322ujgB",
        "outputId": "1f8421b2-9cb6-4611-913b-5d3384cc3cb9"
      },
      "execution_count": 24,
      "outputs": [
        {
          "output_type": "stream",
          "name": "stdout",
          "text": [
            "Skewness: 0.03865955274995522\n",
            "Kurtosis: -0.1175354285591177\n"
          ]
        },
        {
          "output_type": "display_data",
          "data": {
            "text/plain": [
              "<Figure size 640x480 with 1 Axes>"
            ],
            "image/png": "[encoded data removed]"
          },
          "metadata": {}
        }
      ]
    },
    {
      "cell_type": "code",
      "source": [
        "# 24. Implement Pearson and Spearman correlation coefficients\n",
        "from scipy.stats import pearsonr, spearmanr\n",
        "\n",
        "x = [10, 20, 30, 40, 50]\n",
        "y = [15, 25, 35, 45, 55]\n",
        "\n",
        "pearson_corr, _ = pearsonr(x, y)\n",
        "spearman_corr, _ = spearmanr(x, y)\n",
        "\n",
        "print(\"Pearson Correlation:\", pearson_corr)\n",
        "print(\"Spearman Correlation:\", spearman_corr)\n"
      ],
      "metadata": {
        "colab": {
          "base_uri": "https://localhost:8080/"
        },
        "id": "Buj68ns_ujUB",
        "outputId": "77ba724b-7f1b-41b4-d672-f28a9cef6897"
      },
      "execution_count": 23,
      "outputs": [
        {
          "output_type": "stream",
          "name": "stdout",
          "text": [
            "Pearson Correlation: 0.9999999999999998\n",
            "Spearman Correlation: 0.9999999999999999\n"
          ]
        }
      ]
    }
  ]
}